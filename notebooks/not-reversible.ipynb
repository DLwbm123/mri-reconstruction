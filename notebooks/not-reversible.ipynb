{
 "cells": [
  {
   "cell_type": "code",
   "execution_count": 2,
   "metadata": {
    "colab": {
     "autoexec": {
      "startup": false,
      "wait_interval": 0
     }
    },
    "colab_type": "code",
    "id": "BlHgeJ4ZuSF1"
   },
   "outputs": [],
   "source": [
    "import tensorflow as tf"
   ]
  },
  {
   "cell_type": "code",
   "execution_count": 11,
   "metadata": {
    "colab": {
     "autoexec": {
      "startup": false,
      "wait_interval": 0
     }
    },
    "colab_type": "code",
    "id": "QYyGSZA4uWcj"
   },
   "outputs": [],
   "source": []
  },
  {
   "cell_type": "code",
   "execution_count": 5,
   "metadata": {
    "colab": {
     "autoexec": {
      "startup": false,
      "wait_interval": 0
     },
     "base_uri": "https://localhost:8080/",
     "height": 34
    },
    "colab_type": "code",
    "executionInfo": {
     "elapsed": 687,
     "status": "ok",
     "timestamp": 1526681165713,
     "user": {
      "displayName": "Alexander Telfar",
      "photoUrl": "//lh4.googleusercontent.com/-bOBnzCbRWgs/AAAAAAAAAAI/AAAAAAAAABw/Sd6a7MwcUDU/s50-c-k-no/photo.jpg",
      "userId": "112995735588747661471"
     },
     "user_tz": -720
    },
    "id": "WbZl1_p9OGlt",
    "outputId": "6938d7de-493e-4087-9895-81a4d71239a9"
   },
   "outputs": [
    {
     "data": {
      "text/plain": [
       "<tf.Tensor 'pyramid_loss/AddN:0' shape=() dtype=float32>"
      ]
     },
     "execution_count": 5,
     "metadata": {},
     "output_type": "execute_result"
    }
   ],
   "source": []
  },
  {
   "cell_type": "markdown",
   "metadata": {
    "colab_type": "text",
    "id": "zKoNjuPOuW7V"
   },
   "source": [
    "Setting.\n",
    "\n",
    "- You are given $(X, Y, f)$. (but f is also differentiable!)\n",
    "- You are given a inaccurate proxy of the loss (in this case dLdx).\n",
    "\n"
   ]
  },
  {
   "cell_type": "code",
   "execution_count": null,
   "metadata": {
    "colab": {
     "autoexec": {
      "startup": false,
      "wait_interval": 0
     }
    },
    "colab_type": "code",
    "id": "8H85C3kDunTF"
   },
   "outputs": [],
   "source": []
  },
  {
   "cell_type": "markdown",
   "metadata": {
    "colab_type": "text",
    "id": "fSBX6VL0unf0"
   },
   "source": [
    "?\n",
    "\n",
    "Is there an absolute metric to measure the amount of info thrown away be f? (probably not)\n",
    "\n",
    "$$\n",
    "\\begin{align}\n",
    "x &\\neq f^{-1}(f(x)) \\tag{not invertible/reversible}\\\\\n",
    "x^* &= \\mathop{\\text{argmin}}_x d(y, f(x)) + R(x) \\tag{optimisation problem} \\\\\n",
    "\\end{align}\n",
    "$$\n",
    "\n",
    "Point is that $d$ is an imperfect measure because of $f$ (which throws away info). So we need $R(x)$ to incorporate prior about likely values of $x$.\n",
    "\n",
    "$$\n",
    "\\begin{align}\n",
    "P(x \\mid y) &= \\frac{P(y \\mid x )P(x)}{P(y)} \\\\\n",
    "log P(x \\mid y) &= logP(y \\mid x ) + logP(x) - logP(y) \\\\\n",
    "x^* &= \\mathop{\\text{argmax}}_x log P(x \\mid y)\\\\\n",
    "\\\\\n",
    "P(y \\mid x) &= e^{\\parallel x - f^{-1}(y) \\parallel} \\tag{or f(x) - y?} \\\\\n",
    "log P(x \\mid y) &= \\parallel x - f^{-1}(y) \\parallel + ? - ? \\\\\n",
    "\\end{align}\n",
    "$$\n"
   ]
  },
  {
   "cell_type": "markdown",
   "metadata": {
    "colab_type": "text",
    "id": "-uihzVlkRuHe"
   },
   "source": [
    "\n",
    "__Q__ How to incorporate the priors!?!? Which approach is better? What are the advantages/disadvantages?\n",
    "\n",
    "- Meta learning is used to learn how to correct the imperfect $P(x \\mid y)$\n",
    "- GANs to learn $P(x), P(y)$  \n",
    "- Distill them info a learned forward model $NN(y)$\n",
    "\n",
    "\n",
    "### Meta\n",
    "\n",
    "Meta learning needs to learn to correct $\\frac{dL}{dx}$\n",
    "\n",
    "\n",
    "### GANS\n",
    "\n",
    "But how do we learn $P(X)$? In reality we dont really have the ground truth $x$ values, only noisy samples/reconstructions from $y$.\n",
    "\n",
    "GANs add an extra loss, maybe that provides some useful info!?\n"
   ]
  },
  {
   "cell_type": "code",
   "execution_count": null,
   "metadata": {
    "colab": {
     "autoexec": {
      "startup": false,
      "wait_interval": 0
     }
    },
    "colab_type": "code",
    "id": "sBlr-VpavrkC"
   },
   "outputs": [],
   "source": []
  },
  {
   "cell_type": "markdown",
   "metadata": {
    "colab_type": "text",
    "id": "sSBT7SCyvsYT"
   },
   "source": []
  },
  {
   "cell_type": "code",
   "execution_count": null,
   "metadata": {
    "colab": {
     "autoexec": {
      "startup": false,
      "wait_interval": 0
     }
    },
    "colab_type": "code",
    "id": "Inb7lp1FSkkm"
   },
   "outputs": [],
   "source": []
  }
 ],
 "metadata": {
  "colab": {
   "collapsed_sections": [],
   "default_view": {},
   "name": "not-reversible.ipynb",
   "provenance": [],
   "version": "0.3.2",
   "views": {}
  },
  "kernelspec": {
   "display_name": "Python 3",
   "language": "python",
   "name": "python3"
  },
  "language_info": {
   "codemirror_mode": {
    "name": "ipython",
    "version": 3
   },
   "file_extension": ".py",
   "mimetype": "text/x-python",
   "name": "python",
   "nbconvert_exporter": "python",
   "pygments_lexer": "ipython3",
   "version": "3.6.5"
  }
 },
 "nbformat": 4,
 "nbformat_minor": 2
}

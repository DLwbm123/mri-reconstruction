{
 "cells": [
  {
   "cell_type": "markdown",
   "metadata": {},
   "source": [
    "## Compressed sensing\n",
    "\n",
    "http://statweb.stanford.edu/~candes/papers/StableRecovery.pdf\n",
    "\n",
    "$$\n",
    "\\begin{align}\n",
    "&\\text{Assume $\\forall x_i \\in X$;} \\tag{the true signals}\\\\\n",
    "&\\quad\\text{(1) $x_i \\in \\mathbb R^m$} \\\\\n",
    "&\\quad\\text{(2) $x_i$ is sufficiently sparse} \\\\\n",
    "&\\text{Given $f(x_i) = Ax_i+e$ such that;} \\tag{the function we know}\\\\\n",
    "&\\quad\\text{(2) $A$ is approx orthonormal}\\\\ \n",
    "&\\quad\\text{(3) and $e$ is bounded} \\\\\n",
    "&\\text{Given $y_i = f(x_i)$ such that;} \\tag{the observations}\\\\\n",
    "&\\quad\\text{(2) where $n << m$} \\\\\n",
    "x_i^* &= \\text{min} \\parallel \\tilde x_i\\parallel_1 \\text{subject to} \\parallel f(\\tilde x_i) - y_i \\parallel \\le \\epsilon \\tag{?}\\\\\n",
    "\\end{align}\n",
    "$$\n",
    "\n",
    "Requirements.\n",
    "- $x_i$ is sufficiently sparse\n",
    "- $A$ is approximatley orthonormal\n",
    "- $e$ is bounded (this was just needed to make the proofs easier?!? otherwise would need measures?)\n",
    "- iid samples!?\n",
    "\n",
    "#### Misunderstanding.\n",
    "\n",
    "I thought we were matching the signals in a sparse basis.\n",
    "We take our signal, $x_i$ and project it into a new basis where the signal has a sparse representation. We then match signals in this basis.\n",
    "\n",
    "Rather the above requires $x_i$ itself to be sparse.\n",
    "\n",
    "Oh, if $A$ is approximately orthonormal then $y_i$ will also be sparse!? No.\n",
    "\n",
    "#### Search\n",
    "\n",
    "Want a simple 2D case. Show how it is underdetermined.\n",
    "> convex program searching, among all signals consistent with the data y\n",
    "\n",
    "\n",
    "#### Structured spaces and regularisers and priors\n",
    "\n",
    "The trick is using structure in the spaces, X/Y, to help us ...?\n",
    "What about other structure in X or Y? How can that be translated into a regulariser?\n",
    "\n",
    "Want to learn the distinct strutures of a space (e.g. smooth, sparse, ...) and then apply them when solving for x. "
   ]
  },
  {
   "cell_type": "markdown",
   "metadata": {},
   "source": [
    "## Sparse representations\n",
    "\n",
    "Ok, so can we just learn a sparse representation?\n",
    "Take an AE, use a large hidden space, and regularise it to be sparse!?\n",
    "\n",
    "\n",
    "## Restricted isometry\n",
    "\n",
    "$$\n",
    "\\begin{align}\n",
    "(1-\\delta_S)\\parallel x \\parallel_2^2 \\le \\parallel A_Sx \\parallel \\le (1+\\delta_S)\\parallel x \\parallel_2^2 \\\\\n",
    "\\end{align}\n",
    "$$\n",
    "\n",
    "$$\n",
    "\\begin{align}\n",
    "\\parallel A_s^*A_s-I\\parallel_{2\\to 2}\\leq \\delta_s \\\\\n",
    "\\end{align}\n",
    "$$\n",
    "\n",
    "\n",
    "> A challenging aspect of RIP is its computational cost. Indeed, RIP is a property of the submatrices of a specific size. At present, no subexponential-time algorithm is known for testing RIP. [source](https://arxiv.org/pdf/0812.3137.pdf)\n",
    "\n",
    "Non-linear (or functional) equivalent!?\n",
    "\n",
    "$$\n",
    "\\begin{align}\n",
    "(1-\\delta_S)\\parallel x \\parallel_2^2 \\le \\parallel f(x) \\parallel \\le (1+\\delta_S)\\parallel x \\parallel_2^2 \\\\\n",
    "\\end{align}\n",
    "$$\n"
   ]
  },
  {
   "cell_type": "markdown",
   "metadata": {},
   "source": [
    "## Modelling the data.\n",
    "\n",
    "Can use signals in a sparse basis.\n",
    "Thus the model is many causes/bases -> image.\n",
    "\n",
    "What about other types of model?\n",
    "\n",
    "\n"
   ]
  }
 ],
 "metadata": {
  "kernelspec": {
   "display_name": "Python 3",
   "language": "python",
   "name": "python3"
  },
  "language_info": {
   "codemirror_mode": {
    "name": "ipython",
    "version": 3
   },
   "file_extension": ".py",
   "mimetype": "text/x-python",
   "name": "python",
   "nbconvert_exporter": "python",
   "pygments_lexer": "ipython3",
   "version": "3.6.5"
  }
 },
 "nbformat": 4,
 "nbformat_minor": 2
}

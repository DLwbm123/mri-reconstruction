{
 "cells": [
  {
   "cell_type": "code",
   "execution_count": null,
   "metadata": {},
   "outputs": [],
   "source": []
  },
  {
   "cell_type": "markdown",
   "metadata": {},
   "source": [
    "\n",
    "\n",
    "$$\n",
    "\\begin{align}\n",
    "&\\text{Definitions} \\\\\n",
    "X, A_i &\\in \\mathbb R^{d \\times d} \\\\\n",
    "y_i &=  <A_i, X > \\\\\n",
    "X^* &= U^*\\Sigma^*{U^*}^T \\tag{rank-r, PSD}\\\\\n",
    "U^* &\\in \\mathbb R^{d \\times r} \\\\\n",
    "\\end{align}\n",
    "$$\n",
    "\n",
    "$$\n",
    "\\begin{align}\n",
    "&\\text{Assumptions} \\\\\n",
    "\\parallel X^* \\parallel &= 1 \\\\\n",
    "\\sigma_r(X^*) &= \\frac{1}{\\kappa} \\\\\n",
    "\\end{align}\n",
    "$$"
   ]
  },
  {
   "cell_type": "markdown",
   "metadata": {},
   "source": [
    "$$\n",
    "\\begin{align}\n",
    "M_t &= \\frac{1}{m} A(U_tU^T_t - X^*) A^T \\\\\n",
    "U_{t+1} &= (\\text{Id} - \\eta M_t)U_t\\\\\n",
    "\\end{align}\n",
    "$$\n",
    "\n",
    "$$\n",
    "\\begin{align}\n",
    "\n",
    "\\end{align}\n",
    "$$"
   ]
  },
  {
   "cell_type": "markdown",
   "metadata": {},
   "source": [
    "## Questions\n",
    "\n",
    "- What does it mean to overfit in this setting!?"
   ]
  }
 ],
 "metadata": {
  "kernelspec": {
   "display_name": "Python 3",
   "language": "python",
   "name": "python3"
  },
  "language_info": {
   "codemirror_mode": {
    "name": "ipython",
    "version": 3
   },
   "file_extension": ".py",
   "mimetype": "text/x-python",
   "name": "python",
   "nbconvert_exporter": "python",
   "pygments_lexer": "ipython3",
   "version": "3.6.5"
  }
 },
 "nbformat": 4,
 "nbformat_minor": 2
}

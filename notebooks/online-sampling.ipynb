{
 "cells": [
  {
   "cell_type": "markdown",
   "metadata": {},
   "source": [
    "# Online sampling\n",
    "\n",
    "(aka active learning?)\n",
    "\n",
    "Approaches?\n",
    "\n",
    "- Model uncertainty and tradeoff exploitation versus exploration (something like ucb).\n",
    "- RL to pick locations.\n",
    "\n",
    "### Representing the uncertainty of an MRI\n",
    "\n",
    "Uncertainty comes from two sources;\n",
    "- noise,\n",
    "- underconstrained.\n",
    "\n",
    "All samples in an underconstrained set should have equal probability!?\n",
    "Noise should induce a distribution which would diffuse out from the samples in an underconstrained set. \n",
    "\n",
    "### RL\n",
    "\n",
    "Action = the possible places to sample."
   ]
  },
  {
   "cell_type": "markdown",
   "metadata": {},
   "source": [
    "\n",
    "\n",
    "\n",
    "Want a way to take advantage of knowing f!\n",
    "Also, we might have other beliefs about P(x)!? How can we include these?"
   ]
  },
  {
   "cell_type": "markdown",
   "metadata": {},
   "source": [
    "## Questions\n",
    "\n",
    "\n",
    "- How much time do we have? How long does it take for the MRI to take a sample?\n",
    "- Which dynamics of the MRI process matter here? Slew rates, ...?\n"
   ]
  }
 ],
 "metadata": {
  "kernelspec": {
   "display_name": "Python 3",
   "language": "python",
   "name": "python3"
  },
  "language_info": {
   "codemirror_mode": {
    "name": "ipython",
    "version": 3
   },
   "file_extension": ".py",
   "mimetype": "text/x-python",
   "name": "python",
   "nbconvert_exporter": "python",
   "pygments_lexer": "ipython3",
   "version": "3.6.5"
  }
 },
 "nbformat": 4,
 "nbformat_minor": 2
}

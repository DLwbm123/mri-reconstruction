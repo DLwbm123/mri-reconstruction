{
 "cells": [
  {
   "cell_type": "code",
   "execution_count": 1,
   "metadata": {},
   "outputs": [
    {
     "name": "stderr",
     "output_type": "stream",
     "text": [
      "/home/act65/anaconda3/envs/mri/lib/python3.6/site-packages/h5py/__init__.py:36: FutureWarning: Conversion of the second argument of issubdtype from `float` to `np.floating` is deprecated. In future, it will be treated as `np.float64 == np.dtype(float).type`.\n",
      "  from ._conv import register_converters as _register_converters\n"
     ]
    }
   ],
   "source": [
    "import tensorflow as tf\n",
    "import os\n",
    "\n",
    "import glob\n",
    "\n",
    "import nibabel\n",
    "import numpy as np"
   ]
  },
  {
   "cell_type": "code",
   "execution_count": 2,
   "metadata": {},
   "outputs": [],
   "source": [
    "def read(fname):\n",
    "    img = nibabel.load(fname)\n",
    "    # can use variable size. but creates problems later...\n",
    "    return np.array(img.get_fdata(), dtype=np.float32)[:, :, :100]  \n",
    "\n",
    "basedir = '/home/act65/Downloads/ds108_R2.0.0/'\n",
    "fnames = [str(fname) for fname in glob.iglob(basedir+'**/*T1w.nii.gz', recursive=True)]\n",
    "def get_images():\n",
    "    return (read(fname) for fname in fnames)"
   ]
  },
  {
   "cell_type": "code",
   "execution_count": 3,
   "metadata": {},
   "outputs": [],
   "source": [
    "ds = tf.data.Dataset.from_generator(get_images, \n",
    "                                    output_shapes=[256, 256, 100],\n",
    "                                    output_types=tf.float32)\n",
    "ds = ds.map(lambda x: tf.expand_dims(tf.transpose(x, [2,0,1]), -1))\n",
    "ds = ds.batch(10)\n",
    "iterator = tf.data.Iterator.from_structure(ds.output_types,\n",
    "                                           ds.output_shapes)\n",
    "x = iterator.get_next()\n",
    "init = iterator.make_initializer(ds)"
   ]
  },
  {
   "cell_type": "code",
   "execution_count": 4,
   "metadata": {},
   "outputs": [],
   "source": [
    "def cnn(x, depth=3, width=8):\n",
    "    with tf.variable_scope('cnn', reuse=tf.AUTO_REUSE):\n",
    "        for i in range(depth):\n",
    "            x = tf.layers.conv3d(\n",
    "                x,\n",
    "                width,\n",
    "                6,\n",
    "                strides=(2 if i in [0,1] else 1, 4, 4),\n",
    "                padding='SAME',\n",
    "                activation=tf.nn.selu,\n",
    "                name=str(i))\n",
    "    return x\n",
    "\n",
    "def dcnn(x, depth=3, width=8):\n",
    "    with tf.variable_scope('dcnn', reuse=tf.AUTO_REUSE):\n",
    "        for i in range(depth):\n",
    "            x = tf.layers.conv3d_transpose(\n",
    "                x,\n",
    "                width,\n",
    "                6,\n",
    "                strides=(2 if i in [0,1] else 1, 4, 4),\n",
    "                padding='SAME',\n",
    "                activation=tf.nn.selu,\n",
    "                name=str(i))\n",
    "        return tf.layers.conv3d_transpose(\n",
    "                    x,\n",
    "                    1,\n",
    "                    1,\n",
    "                    strides=(1, 1, 1),\n",
    "                    padding='SAME',\n",
    "                    name=str(i+1))"
   ]
  },
  {
   "cell_type": "code",
   "execution_count": 5,
   "metadata": {},
   "outputs": [
    {
     "name": "stdout",
     "output_type": "stream",
     "text": [
      "(?, 25, 4, 4, 8) (?, 100, 256, 256, 1)\n"
     ]
    }
   ],
   "source": [
    "h = cnn(x)\n",
    "y = dcnn(h)\n",
    "print(h.shape, y.shape)"
   ]
  },
  {
   "cell_type": "code",
   "execution_count": 6,
   "metadata": {},
   "outputs": [],
   "source": [
    "beta = 1.0\n",
    "loss = tf.losses.mean_squared_error(x,y)\n",
    "loss += beta*tf.reduce_mean(tf.abs(h))  # sparse hidden space\n",
    "with tf.variable_scope('opt', reuse=tf.AUTO_REUSE):\n",
    "    train_step = tf.train.AdamOptimizer().minimize(loss)\n",
    "\n",
    "summaries = tf.summary.merge([\n",
    "    tf.summary.image('x', x),\n",
    "    tf.summary.image('y', y),\n",
    "    tf.summary.scalar('loss', loss),\n",
    "]) "
   ]
  },
  {
   "cell_type": "code",
   "execution_count": 7,
   "metadata": {},
   "outputs": [],
   "source": [
    "!rm -rf /tmp/mri-cnn3d/0/"
   ]
  },
  {
   "cell_type": "code",
   "execution_count": null,
   "metadata": {},
   "outputs": [
    {
     "name": "stdout",
     "output_type": "stream",
     "text": [
      "0\n"
     ]
    }
   ],
   "source": [
    "with tf.Session() as sess:\n",
    "    sess.run(tf.global_variables_initializer())\n",
    "    sess.run(init)\n",
    "    writer = tf.summary.FileWriter(graph=sess.graph, logdir='/tmp/mri-cnn3d/0')\n",
    "    \n",
    "    for i in range(10000):\n",
    "        print(i)\n",
    "        _, summ = sess.run([train_step, summaries])\n",
    "        \n",
    "        if i % 10 == 0:\n",
    "            writer.add_summary(summ, i)\n",
    "            "
   ]
  },
  {
   "cell_type": "code",
   "execution_count": null,
   "metadata": {},
   "outputs": [],
   "source": [
    "# not happening on my computer..."
   ]
  },
  {
   "cell_type": "code",
   "execution_count": null,
   "metadata": {},
   "outputs": [],
   "source": []
  }
 ],
 "metadata": {
  "kernelspec": {
   "display_name": "Python 3",
   "language": "python",
   "name": "python3"
  },
  "language_info": {
   "codemirror_mode": {
    "name": "ipython",
    "version": 3
   },
   "file_extension": ".py",
   "mimetype": "text/x-python",
   "name": "python",
   "nbconvert_exporter": "python",
   "pygments_lexer": "ipython3",
   "version": "3.6.5"
  }
 },
 "nbformat": 4,
 "nbformat_minor": 2
}

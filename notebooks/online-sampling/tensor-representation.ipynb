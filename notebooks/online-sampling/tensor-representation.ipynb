{
 "cells": [
  {
   "cell_type": "markdown",
   "metadata": {},
   "source": [
    "Let say we have an family of images that we want to represent a distribution over. So we have a rather large set of images... $im \\in \\mathbb I^{255^{28 \\times 28}}$.\n",
    "\n",
    "Can we construct a tensor network to factorise this large space?\n",
    "We could use the grid graph as the topology of the network, and ...?"
   ]
  },
  {
   "cell_type": "code",
   "execution_count": 47,
   "metadata": {},
   "outputs": [
    {
     "data": {
      "text/plain": [
       "533951068865637564153845584073139311655596239077869044391200348949498183957722775718560396779804997890430717220282639914717137729767072903320307768960208639402343301470862942097144591430382678410651975524100814381265465079055110204095279704039797301129840385136171388411285709658868225005259715186299243189679933006629638082475190884930064027512517941658336760197715144020672042086015497099175646168077589470700581340375981888938285288159088147490635660649402666900820860189816804470866965721714707023794374450492220034572758522605827419036068847967180627326496815910955002358783910142753711029400634301213064436806405218103573253010779424755848002733792668211205481989512381843559437604719344721729471581326906438623675937326043590655320842444183286391725486377419225333056017788133842436147066975801893592756244640465438556077814417379488891156281118642089092997941347958650410792731636375163179768752475635089789125440599058928893211719444787105794330948165313710986700807486124415622048321410758236296572428334736568933719054651495035711032812817081395198310844857983922878035087521479262663020111594987872819309805885385717746407437514824830365808150705212613851472325888742410374421717247289976305000234427115309964191263507256383998337195017001269089358905112879828642962287354571752182757450385862403430715423745930605921237363496328815566282878489297001527105458268977371287451334418594769214620958533464523121722521222584404829862710916077634082332892085869823209827712097912719271722472791422267972962149203969772267796457179056363311584203970819900450908246182395287398806719358488562558410049799221953168440521227015549652578630767003190048942501526794521595069056208780351089821584763733296149374250514926769003411411142571453191226907411654327528555675430587515374416507380880050569575061349698791383200612091029597830413273712988654617905837085345410741865634918212890625"
      ]
     },
     "execution_count": 47,
     "metadata": {},
     "output_type": "execute_result"
    }
   ],
   "source": [
    "255**(28*28)"
   ]
  },
  {
   "cell_type": "code",
   "execution_count": 13,
   "metadata": {},
   "outputs": [],
   "source": [
    "import scipy.linalg as la\n",
    "import numpy as np\n",
    "\n",
    "import matplotlib.pyplot as plt"
   ]
  },
  {
   "cell_type": "code",
   "execution_count": 14,
   "metadata": {},
   "outputs": [],
   "source": [
    "def total_params(d, r, n, m):\n",
    "    \"\"\"\n",
    "    d: dim of node\n",
    "    r: rank\n",
    "    n: width\n",
    "    m: height\n",
    "    \"\"\"\n",
    "    # TODO extend to channels\n",
    "    total = 0\n",
    "    \n",
    "    total += 4*d*r**2  # the corners\n",
    "    total += (n+m-4)*(d*r**3) # the sides (minus corners)\n",
    "    total += (m-2)*(n-2)*(d*r**4)\n",
    "    return total"
   ]
  },
  {
   "cell_type": "code",
   "execution_count": 35,
   "metadata": {},
   "outputs": [
    {
     "data": {
      "text/plain": [
       "2868240"
      ]
     },
     "execution_count": 35,
     "metadata": {},
     "output_type": "execute_result"
    }
   ],
   "source": [
    "d, r, n, m = 255, 2, 28, 28\n",
    "N = total_params(d, r, n, m)\n",
    "N"
   ]
  },
  {
   "cell_type": "code",
   "execution_count": 37,
   "metadata": {},
   "outputs": [
    {
     "data": {
      "text/plain": [
       "<matplotlib.image.AxesImage at 0x7fc76ad21f60>"
      ]
     },
     "execution_count": 37,
     "metadata": {},
     "output_type": "execute_result"
    },
    {
     "data": {
      "image/png": "[encoded data removed]",
      "text/plain": [
       "<Figure size 288x288 with 1 Axes>"
      ]
     },
     "metadata": {},
     "output_type": "display_data"
    },
    {
     "data": {
      "image/png": "[encoded data removed]",
      "text/plain": [
       "<Figure size 288x288 with 1 Axes>"
      ]
     },
     "metadata": {},
     "output_type": "display_data"
    }
   ],
   "source": [
    "v = np.zeros(n)\n",
    "v[1] = 1\n",
    "v[-1] = 1\n",
    "\n",
    "# TODO this isnt perfect. it wraps the grid at the edges\n",
    "\n",
    "offdi = la.circulant(v)\n",
    "I = np.eye(n)\n",
    "\n",
    "A = np.kron(offdi,I) + np.kron(I,offdi)\n",
    "plt.matshow(A)\n",
    "plt.matshow(A[:28*2,:28*2])"
   ]
  },
  {
   "cell_type": "code",
   "execution_count": 40,
   "metadata": {},
   "outputs": [],
   "source": [
    "degrees = np.sum(A, axis=0)"
   ]
  },
  {
   "cell_type": "code",
   "execution_count": 42,
   "metadata": {},
   "outputs": [],
   "source": [
    "cores = [np.random.random([d]+[r]*int(deg))for deg in degrees]"
   ]
  },
  {
   "cell_type": "code",
   "execution_count": 44,
   "metadata": {},
   "outputs": [],
   "source": [
    "def construct():\n",
    "    # TODO would prefer to do any/all operations on the\n",
    "    # cores and not the tensor itself...\n",
    "    # well... we cant construct it... its too big.\n",
    "    pass"
   ]
  },
  {
   "cell_type": "code",
   "execution_count": 56,
   "metadata": {},
   "outputs": [],
   "source": [
    "class TN():\n",
    "    def __init__(self, dim, rank, topology, initializer=np.random.random):\n",
    "        self.topology = topology\n",
    "        self.rank = rank\n",
    "        self.dim = dim\n",
    "        self.cores = [initializer([dim]+[rank]*int(deg)) \n",
    "                      for deg in np.sum(topology, axis=0)]\n",
    "        \n",
    "    def matmul(self, x):\n",
    "        pass\n",
    "    \n",
    "    def contract(self, dims):\n",
    "        pass\n",
    "    \n",
    "    def mul(self, x):\n",
    "        pass"
   ]
  },
  {
   "cell_type": "code",
   "execution_count": 57,
   "metadata": {},
   "outputs": [
    {
     "data": {
      "text/plain": [
       "3198720"
      ]
     },
     "execution_count": 57,
     "metadata": {},
     "output_type": "execute_result"
    }
   ],
   "source": [
    "np.sum([np.prod(c.shape) for c in cores])"
   ]
  },
  {
   "cell_type": "markdown",
   "metadata": {},
   "source": [
    "So if rank == 1 then we are modeling each node as being independent and just taking the outer product of each according to the topology!? Does the topology make any difference here!?"
   ]
  },
  {
   "cell_type": "code",
   "execution_count": 70,
   "metadata": {},
   "outputs": [],
   "source": [
    "tn = TN(255, 2, A, np.zeros)\n",
    "\n",
    "# given some image\n",
    "im = np.random.randint(0, 255, (28, 28), dtype=np.int32)\n",
    "# want tn[im] += 1\n",
    "for i in range(len(tn.cores)):\n",
    "    p = im.ravel()[i]\n",
    "    tn.cores[i][p, :, :, :, :] += 1\n",
    "    \n",
    "# can the do some sort of label propagation\n",
    "# to capture local conditional dependence!?"
   ]
  },
  {
   "cell_type": "code",
   "execution_count": 90,
   "metadata": {},
   "outputs": [
    {
     "name": "stderr",
     "output_type": "stream",
     "text": [
      "/home/act65/anaconda3/envs/mri2/lib/python3.6/site-packages/ipykernel_launcher.py:1: RuntimeWarning: Degrees of freedom <= 0 for slice\n",
      "  \"\"\"Entry point for launching an IPython kernel.\n",
      "/home/act65/anaconda3/envs/mri2/lib/python3.6/site-packages/numpy/lib/function_base.py:3109: RuntimeWarning: divide by zero encountered in double_scalars\n",
      "  c *= 1. / np.float64(fact)\n",
      "/home/act65/anaconda3/envs/mri2/lib/python3.6/site-packages/numpy/lib/function_base.py:3109: RuntimeWarning: invalid value encountered in multiply\n",
      "  c *= 1. / np.float64(fact)\n"
     ]
    }
   ],
   "source": [
    "C = np.cov(im.reshape((-1, 1)))"
   ]
  },
  {
   "cell_type": "code",
   "execution_count": 88,
   "metadata": {},
   "outputs": [
    {
     "data": {
      "text/plain": [
       "array([[nan, nan, nan, nan, nan, nan, nan, nan, nan, nan],\n",
       "       [nan, nan, nan, nan, nan, nan, nan, nan, nan, nan],\n",
       "       [nan, nan, nan, nan, nan, nan, nan, nan, nan, nan],\n",
       "       [nan, nan, nan, nan, nan, nan, nan, nan, nan, nan],\n",
       "       [nan, nan, nan, nan, nan, nan, nan, nan, nan, nan],\n",
       "       [nan, nan, nan, nan, nan, nan, nan, nan, nan, nan],\n",
       "       [nan, nan, nan, nan, nan, nan, nan, nan, nan, nan],\n",
       "       [nan, nan, nan, nan, nan, nan, nan, nan, nan, nan],\n",
       "       [nan, nan, nan, nan, nan, nan, nan, nan, nan, nan],\n",
       "       [nan, nan, nan, nan, nan, nan, nan, nan, nan, nan]])"
      ]
     },
     "execution_count": 88,
     "metadata": {},
     "output_type": "execute_result"
    }
   ],
   "source": [
    "C[:10, :10]"
   ]
  },
  {
   "cell_type": "code",
   "execution_count": null,
   "metadata": {},
   "outputs": [],
   "source": []
  }
 ],
 "metadata": {
  "kernelspec": {
   "display_name": "Python 3",
   "language": "python",
   "name": "python3"
  },
  "language_info": {
   "codemirror_mode": {
    "name": "ipython",
    "version": 3
   },
   "file_extension": ".py",
   "mimetype": "text/x-python",
   "name": "python",
   "nbconvert_exporter": "python",
   "pygments_lexer": "ipython3",
   "version": "3.6.5"
  }
 },
 "nbformat": 4,
 "nbformat_minor": 2
}

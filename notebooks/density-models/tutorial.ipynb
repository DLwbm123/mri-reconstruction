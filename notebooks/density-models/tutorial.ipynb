{
 "cells": [
  {
   "cell_type": "markdown",
   "metadata": {},
   "source": [
    "### does this problem have exp complexity?\n",
    "\n",
    "estimating density get a lot harder in high dims. lots more open space that needs to be generalised.\n",
    "\n",
    "\n",
    "high density in one locale (relative to other locales) means that p(x) should be higher!? so we need to compare local estimates of density against each other. but at multiple scales.\n",
    "\n",
    "\n",
    "### relationship to adversarial pertubations!?\n",
    "\n",
    "problem with pick a gaussian kernel is that the underlying space may scale dimensions differently.\n",
    "solution? regularise so that the space is isotropic?"
   ]
  },
  {
   "cell_type": "markdown",
   "metadata": {},
   "source": [
    "## Parzen windows\n",
    "\n",
    "$$\n",
    "p(x) = \\frac{1}{n}\\sum_{i=0}^n K(x - c_i) \\\\\n",
    "$$\n",
    "So each kernel must integrate to one!?\n",
    "\n",
    "Extension\n",
    "$$\n",
    "p(x) = \\frac{1}{n}\\sum_{i=0}^n \\frac{1}{h(x)} K(\\frac{x - c_i}{h(x)}) \\\\\n",
    "$$\n",
    "Where $h(x)$ may depend on the context. Might return a matrix that applies differently per dimension.\n",
    "\n",
    "\n",
    "* https://arxiv.org/pdf/1704.03924.pdf\n",
    "* Is the cts version of label propagation!?\n",
    "* Smoothing assumes the X space is nicely ordered?!?\n",
    "* "
   ]
  },
  {
   "cell_type": "markdown",
   "metadata": {},
   "source": [
    "- Tree representations!?\n",
    "- It is easy to generate low dim training data?!?\n",
    "- What we are really after is dp(x). Derivative Estimation?!!"
   ]
  }
 ],
 "metadata": {
  "kernelspec": {
   "display_name": "Python 3",
   "language": "python",
   "name": "python3"
  },
  "language_info": {
   "codemirror_mode": {
    "name": "ipython",
    "version": 3
   },
   "file_extension": ".py",
   "mimetype": "text/x-python",
   "name": "python",
   "nbconvert_exporter": "python",
   "pygments_lexer": "ipython3",
   "version": "3.6.5"
  }
 },
 "nbformat": 4,
 "nbformat_minor": 2
}

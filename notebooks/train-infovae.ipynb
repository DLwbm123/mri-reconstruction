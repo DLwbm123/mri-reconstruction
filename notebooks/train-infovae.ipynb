{
 "cells": [
  {
   "cell_type": "code",
   "execution_count": 10,
   "metadata": {},
   "outputs": [],
   "source": [
    "import tensorflow as tf\n",
    "import src.infovae as infovae"
   ]
  },
  {
   "cell_type": "code",
   "execution_count": 11,
   "metadata": {},
   "outputs": [
    {
     "name": "stdout",
     "output_type": "stream",
     "text": [
      "Extracting MNIST_data/train-images-idx3-ubyte.gz\n",
      "Extracting MNIST_data/train-labels-idx1-ubyte.gz\n",
      "Extracting MNIST_data/t10k-images-idx3-ubyte.gz\n",
      "Extracting MNIST_data/t10k-labels-idx1-ubyte.gz\n"
     ]
    }
   ],
   "source": [
    "from tensorflow.examples.tutorials.mnist import input_data\n",
    "mnist = input_data.read_data_sets(\"MNIST_data/\", one_hot=True)"
   ]
  },
  {
   "cell_type": "code",
   "execution_count": 12,
   "metadata": {},
   "outputs": [],
   "source": [
    "nn = infovae.InfoVAE(1, 16, 3)\n",
    "\n",
    "x = tf.placeholder(shape=[None, 28, 28, 1], dtype=tf.float32)\n",
    "x_ = nn(x)\n",
    "\n",
    "recon_loss, latent_loss = nn.make_losses(x, x_)\n",
    "loss = recon_loss+latent_loss"
   ]
  },
  {
   "cell_type": "code",
   "execution_count": 13,
   "metadata": {},
   "outputs": [],
   "source": [
    "train_summaries = [\n",
    "    tf.summary.scalar('train/loss/recon', recon_loss),\n",
    "    tf.summary.scalar('train/loss/latent', latent_loss),\n",
    "    tf.summary.histogram('latents', nn.z),\n",
    "    tf.summary.image('train/recon', x_),\n",
    "]\n",
    "test_summaries = [\n",
    "    tf.summary.scalar('test/loss/recon', recon_loss),\n",
    "    tf.summary.scalar('test/loss/latent', latent_loss),\n",
    "    tf.summary.image('test/recon', x_),\n",
    "]\n",
    "\n",
    "train_merged = tf.summary.merge(train_summaries)\n",
    "test_merged = tf.summary.merge(test_summaries)"
   ]
  },
  {
   "cell_type": "code",
   "execution_count": 14,
   "metadata": {},
   "outputs": [],
   "source": [
    "opt = tf.train.AdamOptimizer()\n",
    "train_step = opt.minimize(loss)\n",
    "saver = tf.train.Saver()"
   ]
  },
  {
   "cell_type": "code",
   "execution_count": 15,
   "metadata": {},
   "outputs": [],
   "source": [
    "logdir = '/tmp/infovae/2'\n",
    "!rm -rf {logdir}"
   ]
  },
  {
   "cell_type": "code",
   "execution_count": 16,
   "metadata": {},
   "outputs": [],
   "source": [
    "epochs = 10"
   ]
  },
  {
   "cell_type": "code",
   "execution_count": null,
   "metadata": {},
   "outputs": [
    {
     "name": "stdout",
     "output_type": "stream",
     "text": [
      "Step: 2300 Loss: 0.099832683801651"
     ]
    }
   ],
   "source": [
    "with tf.Session() as sess:\n",
    "    sess.run(tf.global_variables_initializer())\n",
    "    writer = tf.summary.FileWriter(logdir, sess.graph)\n",
    "    \n",
    "    for i in range(epochs*1000):\n",
    "        batch_x, _ = mnist.train.next_batch(50)\n",
    "        _, train_summ = sess.run([train_step, train_merged], \n",
    "                                 feed_dict={x: infovae.InfoVAE.preprocess(batch_x)})\n",
    "        \n",
    "        if i % 10 == 0:\n",
    "            writer.add_summary(train_summ, i)\n",
    "        \n",
    "        if i % 100 == 0:\n",
    "            L, test_summ = sess.run([loss, test_merged], \n",
    "                                                feed_dict={x: \n",
    "                        infovae.InfoVAE.preprocess(mnist.test.images[:100, ...])})\n",
    "            print('\\rStep: {} Loss: {}'.format(i, L), end='', flush=True)\n",
    "            writer.add_summary(test_summ, i)\n",
    "    save_path = saver.save(sess, logdir+\"/infovae.ckpt\")"
   ]
  },
  {
   "cell_type": "code",
   "execution_count": null,
   "metadata": {},
   "outputs": [],
   "source": [
    "save_path"
   ]
  },
  {
   "cell_type": "code",
   "execution_count": null,
   "metadata": {},
   "outputs": [],
   "source": []
  }
 ],
 "metadata": {
  "kernelspec": {
   "display_name": "Python 3",
   "language": "python",
   "name": "python3"
  },
  "language_info": {
   "codemirror_mode": {
    "name": "ipython",
    "version": 3
   },
   "file_extension": ".py",
   "mimetype": "text/x-python",
   "name": "python",
   "nbconvert_exporter": "python",
   "pygments_lexer": "ipython3",
   "version": "3.6.5"
  }
 },
 "nbformat": 4,
 "nbformat_minor": 2
}

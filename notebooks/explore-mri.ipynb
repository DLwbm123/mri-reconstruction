{
 "cells": [
  {
   "cell_type": "markdown",
   "metadata": {},
   "source": [
    "Properties of mri images?\n",
    "\n",
    "- How sparse is their representation in k-space?\n",
    "- ?"
   ]
  },
  {
   "cell_type": "markdown",
   "metadata": {},
   "source": [
    "# What is really there?\n",
    "\n",
    "## Greedy conistency\n",
    "\n",
    "The problem we are trying to solve is underconstrained.\n",
    "Our few observations yield sets of signals that could have given those observations.\n",
    "\n",
    "To solve this problem we use some prior belief/regulariser to search through these consistent signal for the most plausible.\n",
    "\n",
    "I am worried that this search for plausibility might introduce false positives/negatives!? (by pushing observations back onto more likely baselines).\n",
    "\n",
    "Want some guarantees that we will not mistake a tumor\n",
    "\n",
    "- How many samples are necessary to distinguish!?\n",
    "- ?\n",
    "\n",
    "### Learning a prior\n",
    "\n",
    "under which conditions does our learned prior push y to x_1'?\n",
    "\n",
    "the problem is, p(x) captures what is likely. so given a noisy/partial image of a tumor, I am worried it will remove the tumor as it has low p(x)... aka leading to a false negative diagnosis.\n",
    "\n",
    "oh... p(x) is from the data we have. so people who are sick enough to be scanned in the first place. maybe tumors are common. but then a gan might want to fantasize a tumor.\n",
    "\n",
    "### Equivalence classes!?\n",
    "\n",
    "Given a MRI dataset. We can find the min number of samples such that images with tumors and without are likely to be in distinct equivalence classes.\n",
    "\n",
    "$$\n",
    "\\begin{align}\n",
    "y^i &= f(x_i) \\text{  s.t. } x_i \\in \\mathcal C_1 \\tag{given a measurement of 1} \\\\\n",
    "\\text{consistent}(x_j) &= \\parallel f(x_j) - y_i \\parallel_2 \\le \\epsilon \\\\\n",
    "X_{1} &= \\{x_j:  \\text{consistent}(x_j)\\;\\; \\forall x_j \\in X\\} \\tag{the $x_j$ consistent with $y^i$}\\\\\n",
    "X_1 &\\cap X_2 = \\{\\} \\\\\n",
    "\\end{align}\n",
    "$$\n",
    "\n",
    "There are no tumor images that are consistent with the signal.\n",
    "This is what we want to optimise: The ability of our measurements to distinguish classes!? "
   ]
  },
  {
   "cell_type": "code",
   "execution_count": null,
   "metadata": {},
   "outputs": [],
   "source": [
    "# WANT a dataset to play with!"
   ]
  },
  {
   "cell_type": "code",
   "execution_count": null,
   "metadata": {},
   "outputs": [],
   "source": []
  }
 ],
 "metadata": {
  "kernelspec": {
   "display_name": "Python 3",
   "language": "python",
   "name": "python3"
  },
  "language_info": {
   "codemirror_mode": {
    "name": "ipython",
    "version": 3
   },
   "file_extension": ".py",
   "mimetype": "text/x-python",
   "name": "python",
   "nbconvert_exporter": "python",
   "pygments_lexer": "ipython3",
   "version": "3.6.5"
  }
 },
 "nbformat": 4,
 "nbformat_minor": 2
}
